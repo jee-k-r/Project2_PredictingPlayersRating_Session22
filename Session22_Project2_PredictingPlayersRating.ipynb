{
 "cells": [
  {
   "cell_type": "code",
   "execution_count": 1,
   "metadata": {
    "colab": {
     "autoexec": {
      "startup": false,
      "wait_interval": 0
     }
    },
    "colab_type": "code",
    "id": "JhLJojW0DMRV"
   },
   "outputs": [],
   "source": [
    "import sqlite3\n",
    "import numpy as np\n",
    "import pandas as pd\n",
    "%matplotlib notebook\n",
    "import matplotlib.pyplot as plt\n",
    "import xgboost as xgb\n",
    "from xgboost.sklearn import XGBRegressor\n",
    "from xgboost import plot_importance\n",
    "\n",
    "from sklearn.linear_model import LinearRegression\n",
    "from sklearn.tree import DecisionTreeRegressor\n",
    "from sklearn.ensemble import RandomForestRegressor\n",
    "from sklearn.preprocessing import Imputer, StandardScaler\n",
    "from sklearn.feature_selection import SelectFromModel\n",
    "from sklearn.model_selection import train_test_split, GridSearchCV, ShuffleSplit, RandomizedSearchCV\n",
    "from sklearn.pipeline import make_pipeline\n",
    "\n",
    "import pickle"
   ]
  },
  {
   "cell_type": "code",
   "execution_count": 2,
   "metadata": {
    "colab": {
     "autoexec": {
      "startup": false,
      "wait_interval": 0
     }
    },
    "colab_type": "code",
    "id": "WNI7ibaxDMRb"
   },
   "outputs": [],
   "source": [
    "cnx = sqlite3.connect('database.sqlite')"
   ]
  },
  {
   "cell_type": "code",
   "execution_count": 3,
   "metadata": {},
   "outputs": [],
   "source": [
    "dd = pd.read_sql_query(\"SELECT name FROM sqlite_master WHERE type='table'\", cnx)"
   ]
  },
  {
   "cell_type": "code",
   "execution_count": 4,
   "metadata": {},
   "outputs": [
    {
     "name": "stdout",
     "output_type": "stream",
     "text": [
      "                name\n",
      "0    sqlite_sequence\n",
      "1  Player_Attributes\n",
      "2             Player\n",
      "3              Match\n",
      "4             League\n",
      "5            Country\n",
      "6               Team\n",
      "7    Team_Attributes\n"
     ]
    }
   ],
   "source": [
    "print(dd)"
   ]
  },
  {
   "cell_type": "code",
   "execution_count": 5,
   "metadata": {
    "colab": {
     "autoexec": {
      "startup": false,
      "wait_interval": 0
     }
    },
    "colab_type": "code",
    "id": "8HohvjfcDMRf"
   },
   "outputs": [],
   "source": [
    "df = pd.read_sql_query(\"SELECT * FROM Player_Attributes\", cnx)"
   ]
  },
  {
   "cell_type": "code",
   "execution_count": 6,
   "metadata": {
    "colab": {
     "autoexec": {
      "startup": false,
      "wait_interval": 0
     },
     "base_uri": "https://localhost:8080/",
     "height": 423
    },
    "colab_type": "code",
    "executionInfo": {
     "elapsed": 971,
     "status": "ok",
     "timestamp": 1525756635404,
     "user": {
      "displayName": "prakash mishra",
      "photoUrl": "//lh4.googleusercontent.com/-Ej6Y_cq-EAg/AAAAAAAAAAI/AAAAAAAAU3w/qb7u8oox_eU/s50-c-k-no/photo.jpg",
      "userId": "115150043305705155208"
     },
     "user_tz": -330
    },
    "id": "AykT_5AZDMRh",
    "outputId": "e5394b85-f500-4384-8c6c-88769c6517e4"
   },
   "outputs": [
    {
     "data": {
      "text/html": [
       "<div>\n",
       "<style scoped>\n",
       "    .dataframe tbody tr th:only-of-type {\n",
       "        vertical-align: middle;\n",
       "    }\n",
       "\n",
       "    .dataframe tbody tr th {\n",
       "        vertical-align: top;\n",
       "    }\n",
       "\n",
       "    .dataframe thead th {\n",
       "        text-align: right;\n",
       "    }\n",
       "</style>\n",
       "<table border=\"1\" class=\"dataframe\">\n",
       "  <thead>\n",
       "    <tr style=\"text-align: right;\">\n",
       "      <th></th>\n",
       "      <th>id</th>\n",
       "      <th>player_fifa_api_id</th>\n",
       "      <th>player_api_id</th>\n",
       "      <th>date</th>\n",
       "      <th>overall_rating</th>\n",
       "      <th>potential</th>\n",
       "      <th>preferred_foot</th>\n",
       "      <th>attacking_work_rate</th>\n",
       "      <th>defensive_work_rate</th>\n",
       "      <th>crossing</th>\n",
       "      <th>...</th>\n",
       "      <th>vision</th>\n",
       "      <th>penalties</th>\n",
       "      <th>marking</th>\n",
       "      <th>standing_tackle</th>\n",
       "      <th>sliding_tackle</th>\n",
       "      <th>gk_diving</th>\n",
       "      <th>gk_handling</th>\n",
       "      <th>gk_kicking</th>\n",
       "      <th>gk_positioning</th>\n",
       "      <th>gk_reflexes</th>\n",
       "    </tr>\n",
       "  </thead>\n",
       "  <tbody>\n",
       "    <tr>\n",
       "      <th>0</th>\n",
       "      <td>1</td>\n",
       "      <td>218353</td>\n",
       "      <td>505942</td>\n",
       "      <td>2016-02-18 00:00:00</td>\n",
       "      <td>67.0</td>\n",
       "      <td>71.0</td>\n",
       "      <td>right</td>\n",
       "      <td>medium</td>\n",
       "      <td>medium</td>\n",
       "      <td>49.0</td>\n",
       "      <td>...</td>\n",
       "      <td>54.0</td>\n",
       "      <td>48.0</td>\n",
       "      <td>65.0</td>\n",
       "      <td>69.0</td>\n",
       "      <td>69.0</td>\n",
       "      <td>6.0</td>\n",
       "      <td>11.0</td>\n",
       "      <td>10.0</td>\n",
       "      <td>8.0</td>\n",
       "      <td>8.0</td>\n",
       "    </tr>\n",
       "    <tr>\n",
       "      <th>1</th>\n",
       "      <td>2</td>\n",
       "      <td>218353</td>\n",
       "      <td>505942</td>\n",
       "      <td>2015-11-19 00:00:00</td>\n",
       "      <td>67.0</td>\n",
       "      <td>71.0</td>\n",
       "      <td>right</td>\n",
       "      <td>medium</td>\n",
       "      <td>medium</td>\n",
       "      <td>49.0</td>\n",
       "      <td>...</td>\n",
       "      <td>54.0</td>\n",
       "      <td>48.0</td>\n",
       "      <td>65.0</td>\n",
       "      <td>69.0</td>\n",
       "      <td>69.0</td>\n",
       "      <td>6.0</td>\n",
       "      <td>11.0</td>\n",
       "      <td>10.0</td>\n",
       "      <td>8.0</td>\n",
       "      <td>8.0</td>\n",
       "    </tr>\n",
       "    <tr>\n",
       "      <th>2</th>\n",
       "      <td>3</td>\n",
       "      <td>218353</td>\n",
       "      <td>505942</td>\n",
       "      <td>2015-09-21 00:00:00</td>\n",
       "      <td>62.0</td>\n",
       "      <td>66.0</td>\n",
       "      <td>right</td>\n",
       "      <td>medium</td>\n",
       "      <td>medium</td>\n",
       "      <td>49.0</td>\n",
       "      <td>...</td>\n",
       "      <td>54.0</td>\n",
       "      <td>48.0</td>\n",
       "      <td>65.0</td>\n",
       "      <td>66.0</td>\n",
       "      <td>69.0</td>\n",
       "      <td>6.0</td>\n",
       "      <td>11.0</td>\n",
       "      <td>10.0</td>\n",
       "      <td>8.0</td>\n",
       "      <td>8.0</td>\n",
       "    </tr>\n",
       "    <tr>\n",
       "      <th>3</th>\n",
       "      <td>4</td>\n",
       "      <td>218353</td>\n",
       "      <td>505942</td>\n",
       "      <td>2015-03-20 00:00:00</td>\n",
       "      <td>61.0</td>\n",
       "      <td>65.0</td>\n",
       "      <td>right</td>\n",
       "      <td>medium</td>\n",
       "      <td>medium</td>\n",
       "      <td>48.0</td>\n",
       "      <td>...</td>\n",
       "      <td>53.0</td>\n",
       "      <td>47.0</td>\n",
       "      <td>62.0</td>\n",
       "      <td>63.0</td>\n",
       "      <td>66.0</td>\n",
       "      <td>5.0</td>\n",
       "      <td>10.0</td>\n",
       "      <td>9.0</td>\n",
       "      <td>7.0</td>\n",
       "      <td>7.0</td>\n",
       "    </tr>\n",
       "    <tr>\n",
       "      <th>4</th>\n",
       "      <td>5</td>\n",
       "      <td>218353</td>\n",
       "      <td>505942</td>\n",
       "      <td>2007-02-22 00:00:00</td>\n",
       "      <td>61.0</td>\n",
       "      <td>65.0</td>\n",
       "      <td>right</td>\n",
       "      <td>medium</td>\n",
       "      <td>medium</td>\n",
       "      <td>48.0</td>\n",
       "      <td>...</td>\n",
       "      <td>53.0</td>\n",
       "      <td>47.0</td>\n",
       "      <td>62.0</td>\n",
       "      <td>63.0</td>\n",
       "      <td>66.0</td>\n",
       "      <td>5.0</td>\n",
       "      <td>10.0</td>\n",
       "      <td>9.0</td>\n",
       "      <td>7.0</td>\n",
       "      <td>7.0</td>\n",
       "    </tr>\n",
       "  </tbody>\n",
       "</table>\n",
       "<p>5 rows × 42 columns</p>\n",
       "</div>"
      ],
      "text/plain": [
       "   id  player_fifa_api_id  player_api_id                 date  overall_rating  \\\n",
       "0   1              218353         505942  2016-02-18 00:00:00            67.0   \n",
       "1   2              218353         505942  2015-11-19 00:00:00            67.0   \n",
       "2   3              218353         505942  2015-09-21 00:00:00            62.0   \n",
       "3   4              218353         505942  2015-03-20 00:00:00            61.0   \n",
       "4   5              218353         505942  2007-02-22 00:00:00            61.0   \n",
       "\n",
       "   potential preferred_foot attacking_work_rate defensive_work_rate  crossing  \\\n",
       "0       71.0          right              medium              medium      49.0   \n",
       "1       71.0          right              medium              medium      49.0   \n",
       "2       66.0          right              medium              medium      49.0   \n",
       "3       65.0          right              medium              medium      48.0   \n",
       "4       65.0          right              medium              medium      48.0   \n",
       "\n",
       "      ...       vision  penalties  marking  standing_tackle  sliding_tackle  \\\n",
       "0     ...         54.0       48.0     65.0             69.0            69.0   \n",
       "1     ...         54.0       48.0     65.0             69.0            69.0   \n",
       "2     ...         54.0       48.0     65.0             66.0            69.0   \n",
       "3     ...         53.0       47.0     62.0             63.0            66.0   \n",
       "4     ...         53.0       47.0     62.0             63.0            66.0   \n",
       "\n",
       "   gk_diving  gk_handling  gk_kicking  gk_positioning  gk_reflexes  \n",
       "0        6.0         11.0        10.0             8.0          8.0  \n",
       "1        6.0         11.0        10.0             8.0          8.0  \n",
       "2        6.0         11.0        10.0             8.0          8.0  \n",
       "3        5.0         10.0         9.0             7.0          7.0  \n",
       "4        5.0         10.0         9.0             7.0          7.0  \n",
       "\n",
       "[5 rows x 42 columns]"
      ]
     },
     "execution_count": 6,
     "metadata": {},
     "output_type": "execute_result"
    }
   ],
   "source": [
    "df.head()"
   ]
  },
  {
   "cell_type": "code",
   "execution_count": 7,
   "metadata": {
    "colab": {
     "autoexec": {
      "startup": false,
      "wait_interval": 0
     }
    },
    "colab_type": "code",
    "id": "xKfKgkI2DMRo"
   },
   "outputs": [],
   "source": [
    "target = df.pop('overall_rating')"
   ]
  },
  {
   "cell_type": "code",
   "execution_count": 8,
   "metadata": {
    "colab": {
     "autoexec": {
      "startup": false,
      "wait_interval": 0
     },
     "base_uri": "https://localhost:8080/",
     "height": 34
    },
    "colab_type": "code",
    "executionInfo": {
     "elapsed": 943,
     "status": "ok",
     "timestamp": 1525756638871,
     "user": {
      "displayName": "prakash mishra",
      "photoUrl": "//lh4.googleusercontent.com/-Ej6Y_cq-EAg/AAAAAAAAAAI/AAAAAAAAU3w/qb7u8oox_eU/s50-c-k-no/photo.jpg",
      "userId": "115150043305705155208"
     },
     "user_tz": -330
    },
    "id": "jIAuRYeSDMRr",
    "outputId": "131ffbfd-2b06-4a6c-fb8f-52c62b8c6ad5"
   },
   "outputs": [
    {
     "data": {
      "text/plain": [
       "(183978, 41)"
      ]
     },
     "execution_count": 8,
     "metadata": {},
     "output_type": "execute_result"
    }
   ],
   "source": [
    "df.shape"
   ]
  },
  {
   "cell_type": "code",
   "execution_count": 9,
   "metadata": {
    "colab": {
     "autoexec": {
      "startup": false,
      "wait_interval": 0
     },
     "base_uri": "https://localhost:8080/",
     "height": 119
    },
    "colab_type": "code",
    "executionInfo": {
     "elapsed": 892,
     "status": "ok",
     "timestamp": 1525756639851,
     "user": {
      "displayName": "prakash mishra",
      "photoUrl": "//lh4.googleusercontent.com/-Ej6Y_cq-EAg/AAAAAAAAAAI/AAAAAAAAU3w/qb7u8oox_eU/s50-c-k-no/photo.jpg",
      "userId": "115150043305705155208"
     },
     "user_tz": -330
    },
    "id": "1zU01-qiDMRw",
    "outputId": "70b1cabd-f5ed-4535-cc19-846b93aec55f"
   },
   "outputs": [
    {
     "data": {
      "text/plain": [
       "0    67.0\n",
       "1    67.0\n",
       "2    62.0\n",
       "3    61.0\n",
       "4    61.0\n",
       "Name: overall_rating, dtype: float64"
      ]
     },
     "execution_count": 9,
     "metadata": {},
     "output_type": "execute_result"
    }
   ],
   "source": [
    "target.head()"
   ]
  },
  {
   "cell_type": "markdown",
   "metadata": {
    "colab_type": "text",
    "id": "23I6XR4jDMR0"
   },
   "source": [
    "## Imputing target funtion :"
   ]
  },
  {
   "cell_type": "code",
   "execution_count": 10,
   "metadata": {
    "colab": {
     "autoexec": {
      "startup": false,
      "wait_interval": 0
     },
     "base_uri": "https://localhost:8080/",
     "height": 34
    },
    "colab_type": "code",
    "executionInfo": {
     "elapsed": 864,
     "status": "ok",
     "timestamp": 1525756640822,
     "user": {
      "displayName": "prakash mishra",
      "photoUrl": "//lh4.googleusercontent.com/-Ej6Y_cq-EAg/AAAAAAAAAAI/AAAAAAAAU3w/qb7u8oox_eU/s50-c-k-no/photo.jpg",
      "userId": "115150043305705155208"
     },
     "user_tz": -330
    },
    "id": "KCU9Kt2-DMR1",
    "outputId": "d060d796-c30f-4557-8f60-a208bb07f062"
   },
   "outputs": [
    {
     "data": {
      "text/plain": [
       "836"
      ]
     },
     "execution_count": 10,
     "metadata": {},
     "output_type": "execute_result"
    }
   ],
   "source": [
    "target.isnull().values.sum()"
   ]
  },
  {
   "cell_type": "markdown",
   "metadata": {
    "colab_type": "text",
    "id": "KxqzwtBMDMR5"
   },
   "source": [
    "there are 836 missing value present in target function."
   ]
  },
  {
   "cell_type": "code",
   "execution_count": 11,
   "metadata": {
    "colab": {
     "autoexec": {
      "startup": false,
      "wait_interval": 0
     },
     "base_uri": "https://localhost:8080/",
     "height": 170
    },
    "colab_type": "code",
    "executionInfo": {
     "elapsed": 1270,
     "status": "ok",
     "timestamp": 1525756642238,
     "user": {
      "displayName": "prakash mishra",
      "photoUrl": "//lh4.googleusercontent.com/-Ej6Y_cq-EAg/AAAAAAAAAAI/AAAAAAAAU3w/qb7u8oox_eU/s50-c-k-no/photo.jpg",
      "userId": "115150043305705155208"
     },
     "user_tz": -330
    },
    "id": "FeUp8fssDMR7",
    "outputId": "e7207704-72ba-427a-9df4-62f4308d16b9"
   },
   "outputs": [
    {
     "data": {
      "text/plain": [
       "count    183142.000000\n",
       "mean         68.600015\n",
       "std           7.041139\n",
       "min          33.000000\n",
       "25%          64.000000\n",
       "50%          69.000000\n",
       "75%          73.000000\n",
       "max          94.000000\n",
       "Name: overall_rating, dtype: float64"
      ]
     },
     "execution_count": 11,
     "metadata": {},
     "output_type": "execute_result"
    }
   ],
   "source": [
    "target.describe()"
   ]
  },
  {
   "cell_type": "code",
   "execution_count": 12,
   "metadata": {
    "colab": {
     "autoexec": {
      "startup": false,
      "wait_interval": 0
     },
     "base_uri": "https://localhost:8080/",
     "height": 323
    },
    "colab_type": "code",
    "executionInfo": {
     "elapsed": 1088,
     "status": "ok",
     "timestamp": 1525756643422,
     "user": {
      "displayName": "prakash mishra",
      "photoUrl": "//lh4.googleusercontent.com/-Ej6Y_cq-EAg/AAAAAAAAAAI/AAAAAAAAU3w/qb7u8oox_eU/s50-c-k-no/photo.jpg",
      "userId": "115150043305705155208"
     },
     "user_tz": -330
    },
    "id": "jvr8PUMkDMR_",
    "outputId": "68e869ba-e981-4b6e-cac5-3ee09c64b649"
   },
   "outputs": [
    {
     "data": {
      "application/javascript": [
       "/* Put everything inside the global mpl namespace */\n",
       "window.mpl = {};\n",
       "\n",
       "\n",
       "mpl.get_websocket_type = function() {\n",
       "    if (typeof(WebSocket) !== 'undefined') {\n",
       "        return WebSocket;\n",
       "    } else if (typeof(MozWebSocket) !== 'undefined') {\n",
       "        return MozWebSocket;\n",
       "    } else {\n",
       "        alert('Your browser does not have WebSocket support.' +\n",
       "              'Please try Chrome, Safari or Firefox ≥ 6. ' +\n",
       "              'Firefox 4 and 5 are also supported but you ' +\n",
       "              'have to enable WebSockets in about:config.');\n",
       "    };\n",
       "}\n",
       "\n",
       "mpl.figure = function(figure_id, websocket, ondownload, parent_element) {\n",
       "    this.id = figure_id;\n",
       "\n",
       "    this.ws = websocket;\n",
       "\n",
       "    this.supports_binary = (this.ws.binaryType != undefined);\n",
       "\n",
       "    if (!this.supports_binary) {\n",
       "        var warnings = document.getElementById(\"mpl-warnings\");\n",
       "        if (warnings) {\n",
       "            warnings.style.display = 'block';\n",
       "            warnings.textContent = (\n",
       "                \"This browser does not support binary websocket messages. \" +\n",
       "                    \"Performance may be slow.\");\n",
       "        }\n",
       "    }\n",
       "\n",
       "    this.imageObj = new Image();\n",
       "\n",
       "    this.context = undefined;\n",
       "    this.message = undefined;\n",
       "    this.canvas = undefined;\n",
       "    this.rubberband_canvas = undefined;\n",
       "    this.rubberband_context = undefined;\n",
       "    this.format_dropdown = undefined;\n",
       "\n",
       "    this.image_mode = 'full';\n",
       "\n",
       "    this.root = $('<div/>');\n",
       "    this._root_extra_style(this.root)\n",
       "    this.root.attr('style', 'display: inline-block');\n",
       "\n",
       "    $(parent_element).append(this.root);\n",
       "\n",
       "    this._init_header(this);\n",
       "    this._init_canvas(this);\n",
       "    this._init_toolbar(this);\n",
       "\n",
       "    var fig = this;\n",
       "\n",
       "    this.waiting = false;\n",
       "\n",
       "    this.ws.onopen =  function () {\n",
       "            fig.send_message(\"supports_binary\", {value: fig.supports_binary});\n",
       "            fig.send_message(\"send_image_mode\", {});\n",
       "            if (mpl.ratio != 1) {\n",
       "                fig.send_message(\"set_dpi_ratio\", {'dpi_ratio': mpl.ratio});\n",
       "            }\n",
       "            fig.send_message(\"refresh\", {});\n",
       "        }\n",
       "\n",
       "    this.imageObj.onload = function() {\n",
       "            if (fig.image_mode == 'full') {\n",
       "                // Full images could contain transparency (where diff images\n",
       "                // almost always do), so we need to clear the canvas so that\n",
       "                // there is no ghosting.\n",
       "                fig.context.clearRect(0, 0, fig.canvas.width, fig.canvas.height);\n",
       "            }\n",
       "            fig.context.drawImage(fig.imageObj, 0, 0);\n",
       "        };\n",
       "\n",
       "    this.imageObj.onunload = function() {\n",
       "        fig.ws.close();\n",
       "    }\n",
       "\n",
       "    this.ws.onmessage = this._make_on_message_function(this);\n",
       "\n",
       "    this.ondownload = ondownload;\n",
       "}\n",
       "\n",
       "mpl.figure.prototype._init_header = function() {\n",
       "    var titlebar = $(\n",
       "        '<div class=\"ui-dialog-titlebar ui-widget-header ui-corner-all ' +\n",
       "        'ui-helper-clearfix\"/>');\n",
       "    var titletext = $(\n",
       "        '<div class=\"ui-dialog-title\" style=\"width: 100%; ' +\n",
       "        'text-align: center; padding: 3px;\"/>');\n",
       "    titlebar.append(titletext)\n",
       "    this.root.append(titlebar);\n",
       "    this.header = titletext[0];\n",
       "}\n",
       "\n",
       "\n",
       "\n",
       "mpl.figure.prototype._canvas_extra_style = function(canvas_div) {\n",
       "\n",
       "}\n",
       "\n",
       "\n",
       "mpl.figure.prototype._root_extra_style = function(canvas_div) {\n",
       "\n",
       "}\n",
       "\n",
       "mpl.figure.prototype._init_canvas = function() {\n",
       "    var fig = this;\n",
       "\n",
       "    var canvas_div = $('<div/>');\n",
       "\n",
       "    canvas_div.attr('style', 'position: relative; clear: both; outline: 0');\n",
       "\n",
       "    function canvas_keyboard_event(event) {\n",
       "        return fig.key_event(event, event['data']);\n",
       "    }\n",
       "\n",
       "    canvas_div.keydown('key_press', canvas_keyboard_event);\n",
       "    canvas_div.keyup('key_release', canvas_keyboard_event);\n",
       "    this.canvas_div = canvas_div\n",
       "    this._canvas_extra_style(canvas_div)\n",
       "    this.root.append(canvas_div);\n",
       "\n",
       "    var canvas = $('<canvas/>');\n",
       "    canvas.addClass('mpl-canvas');\n",
       "    canvas.attr('style', \"left: 0; top: 0; z-index: 0; outline: 0\")\n",
       "\n",
       "    this.canvas = canvas[0];\n",
       "    this.context = canvas[0].getContext(\"2d\");\n",
       "\n",
       "    var backingStore = this.context.backingStorePixelRatio ||\n",
       "\tthis.context.webkitBackingStorePixelRatio ||\n",
       "\tthis.context.mozBackingStorePixelRatio ||\n",
       "\tthis.context.msBackingStorePixelRatio ||\n",
       "\tthis.context.oBackingStorePixelRatio ||\n",
       "\tthis.context.backingStorePixelRatio || 1;\n",
       "\n",
       "    mpl.ratio = (window.devicePixelRatio || 1) / backingStore;\n",
       "\n",
       "    var rubberband = $('<canvas/>');\n",
       "    rubberband.attr('style', \"position: absolute; left: 0; top: 0; z-index: 1;\")\n",
       "\n",
       "    var pass_mouse_events = true;\n",
       "\n",
       "    canvas_div.resizable({\n",
       "        start: function(event, ui) {\n",
       "            pass_mouse_events = false;\n",
       "        },\n",
       "        resize: function(event, ui) {\n",
       "            fig.request_resize(ui.size.width, ui.size.height);\n",
       "        },\n",
       "        stop: function(event, ui) {\n",
       "            pass_mouse_events = true;\n",
       "            fig.request_resize(ui.size.width, ui.size.height);\n",
       "        },\n",
       "    });\n",
       "\n",
       "    function mouse_event_fn(event) {\n",
       "        if (pass_mouse_events)\n",
       "            return fig.mouse_event(event, event['data']);\n",
       "    }\n",
       "\n",
       "    rubberband.mousedown('button_press', mouse_event_fn);\n",
       "    rubberband.mouseup('button_release', mouse_event_fn);\n",
       "    // Throttle sequential mouse events to 1 every 20ms.\n",
       "    rubberband.mousemove('motion_notify', mouse_event_fn);\n",
       "\n",
       "    rubberband.mouseenter('figure_enter', mouse_event_fn);\n",
       "    rubberband.mouseleave('figure_leave', mouse_event_fn);\n",
       "\n",
       "    canvas_div.on(\"wheel\", function (event) {\n",
       "        event = event.originalEvent;\n",
       "        event['data'] = 'scroll'\n",
       "        if (event.deltaY < 0) {\n",
       "            event.step = 1;\n",
       "        } else {\n",
       "            event.step = -1;\n",
       "        }\n",
       "        mouse_event_fn(event);\n",
       "    });\n",
       "\n",
       "    canvas_div.append(canvas);\n",
       "    canvas_div.append(rubberband);\n",
       "\n",
       "    this.rubberband = rubberband;\n",
       "    this.rubberband_canvas = rubberband[0];\n",
       "    this.rubberband_context = rubberband[0].getContext(\"2d\");\n",
       "    this.rubberband_context.strokeStyle = \"#000000\";\n",
       "\n",
       "    this._resize_canvas = function(width, height) {\n",
       "        // Keep the size of the canvas, canvas container, and rubber band\n",
       "        // canvas in synch.\n",
       "        canvas_div.css('width', width)\n",
       "        canvas_div.css('height', height)\n",
       "\n",
       "        canvas.attr('width', width * mpl.ratio);\n",
       "        canvas.attr('height', height * mpl.ratio);\n",
       "        canvas.attr('style', 'width: ' + width + 'px; height: ' + height + 'px;');\n",
       "\n",
       "        rubberband.attr('width', width);\n",
       "        rubberband.attr('height', height);\n",
       "    }\n",
       "\n",
       "    // Set the figure to an initial 600x600px, this will subsequently be updated\n",
       "    // upon first draw.\n",
       "    this._resize_canvas(600, 600);\n",
       "\n",
       "    // Disable right mouse context menu.\n",
       "    $(this.rubberband_canvas).bind(\"contextmenu\",function(e){\n",
       "        return false;\n",
       "    });\n",
       "\n",
       "    function set_focus () {\n",
       "        canvas.focus();\n",
       "        canvas_div.focus();\n",
       "    }\n",
       "\n",
       "    window.setTimeout(set_focus, 100);\n",
       "}\n",
       "\n",
       "mpl.figure.prototype._init_toolbar = function() {\n",
       "    var fig = this;\n",
       "\n",
       "    var nav_element = $('<div/>')\n",
       "    nav_element.attr('style', 'width: 100%');\n",
       "    this.root.append(nav_element);\n",
       "\n",
       "    // Define a callback function for later on.\n",
       "    function toolbar_event(event) {\n",
       "        return fig.toolbar_button_onclick(event['data']);\n",
       "    }\n",
       "    function toolbar_mouse_event(event) {\n",
       "        return fig.toolbar_button_onmouseover(event['data']);\n",
       "    }\n",
       "\n",
       "    for(var toolbar_ind in mpl.toolbar_items) {\n",
       "        var name = mpl.toolbar_items[toolbar_ind][0];\n",
       "        var tooltip = mpl.toolbar_items[toolbar_ind][1];\n",
       "        var image = mpl.toolbar_items[toolbar_ind][2];\n",
       "        var method_name = mpl.toolbar_items[toolbar_ind][3];\n",
       "\n",
       "        if (!name) {\n",
       "            // put a spacer in here.\n",
       "            continue;\n",
       "        }\n",
       "        var button = $('<button/>');\n",
       "        button.addClass('ui-button ui-widget ui-state-default ui-corner-all ' +\n",
       "                        'ui-button-icon-only');\n",
       "        button.attr('role', 'button');\n",
       "        button.attr('aria-disabled', 'false');\n",
       "        button.click(method_name, toolbar_event);\n",
       "        button.mouseover(tooltip, toolbar_mouse_event);\n",
       "\n",
       "        var icon_img = $('<span/>');\n",
       "        icon_img.addClass('ui-button-icon-primary ui-icon');\n",
       "        icon_img.addClass(image);\n",
       "        icon_img.addClass('ui-corner-all');\n",
       "\n",
       "        var tooltip_span = $('<span/>');\n",
       "        tooltip_span.addClass('ui-button-text');\n",
       "        tooltip_span.html(tooltip);\n",
       "\n",
       "        button.append(icon_img);\n",
       "        button.append(tooltip_span);\n",
       "\n",
       "        nav_element.append(button);\n",
       "    }\n",
       "\n",
       "    var fmt_picker_span = $('<span/>');\n",
       "\n",
       "    var fmt_picker = $('<select/>');\n",
       "    fmt_picker.addClass('mpl-toolbar-option ui-widget ui-widget-content');\n",
       "    fmt_picker_span.append(fmt_picker);\n",
       "    nav_element.append(fmt_picker_span);\n",
       "    this.format_dropdown = fmt_picker[0];\n",
       "\n",
       "    for (var ind in mpl.extensions) {\n",
       "        var fmt = mpl.extensions[ind];\n",
       "        var option = $(\n",
       "            '<option/>', {selected: fmt === mpl.default_extension}).html(fmt);\n",
       "        fmt_picker.append(option)\n",
       "    }\n",
       "\n",
       "    // Add hover states to the ui-buttons\n",
       "    $( \".ui-button\" ).hover(\n",
       "        function() { $(this).addClass(\"ui-state-hover\");},\n",
       "        function() { $(this).removeClass(\"ui-state-hover\");}\n",
       "    );\n",
       "\n",
       "    var status_bar = $('<span class=\"mpl-message\"/>');\n",
       "    nav_element.append(status_bar);\n",
       "    this.message = status_bar[0];\n",
       "}\n",
       "\n",
       "mpl.figure.prototype.request_resize = function(x_pixels, y_pixels) {\n",
       "    // Request matplotlib to resize the figure. Matplotlib will then trigger a resize in the client,\n",
       "    // which will in turn request a refresh of the image.\n",
       "    this.send_message('resize', {'width': x_pixels, 'height': y_pixels});\n",
       "}\n",
       "\n",
       "mpl.figure.prototype.send_message = function(type, properties) {\n",
       "    properties['type'] = type;\n",
       "    properties['figure_id'] = this.id;\n",
       "    this.ws.send(JSON.stringify(properties));\n",
       "}\n",
       "\n",
       "mpl.figure.prototype.send_draw_message = function() {\n",
       "    if (!this.waiting) {\n",
       "        this.waiting = true;\n",
       "        this.ws.send(JSON.stringify({type: \"draw\", figure_id: this.id}));\n",
       "    }\n",
       "}\n",
       "\n",
       "\n",
       "mpl.figure.prototype.handle_save = function(fig, msg) {\n",
       "    var format_dropdown = fig.format_dropdown;\n",
       "    var format = format_dropdown.options[format_dropdown.selectedIndex].value;\n",
       "    fig.ondownload(fig, format);\n",
       "}\n",
       "\n",
       "\n",
       "mpl.figure.prototype.handle_resize = function(fig, msg) {\n",
       "    var size = msg['size'];\n",
       "    if (size[0] != fig.canvas.width || size[1] != fig.canvas.height) {\n",
       "        fig._resize_canvas(size[0], size[1]);\n",
       "        fig.send_message(\"refresh\", {});\n",
       "    };\n",
       "}\n",
       "\n",
       "mpl.figure.prototype.handle_rubberband = function(fig, msg) {\n",
       "    var x0 = msg['x0'] / mpl.ratio;\n",
       "    var y0 = (fig.canvas.height - msg['y0']) / mpl.ratio;\n",
       "    var x1 = msg['x1'] / mpl.ratio;\n",
       "    var y1 = (fig.canvas.height - msg['y1']) / mpl.ratio;\n",
       "    x0 = Math.floor(x0) + 0.5;\n",
       "    y0 = Math.floor(y0) + 0.5;\n",
       "    x1 = Math.floor(x1) + 0.5;\n",
       "    y1 = Math.floor(y1) + 0.5;\n",
       "    var min_x = Math.min(x0, x1);\n",
       "    var min_y = Math.min(y0, y1);\n",
       "    var width = Math.abs(x1 - x0);\n",
       "    var height = Math.abs(y1 - y0);\n",
       "\n",
       "    fig.rubberband_context.clearRect(\n",
       "        0, 0, fig.canvas.width, fig.canvas.height);\n",
       "\n",
       "    fig.rubberband_context.strokeRect(min_x, min_y, width, height);\n",
       "}\n",
       "\n",
       "mpl.figure.prototype.handle_figure_label = function(fig, msg) {\n",
       "    // Updates the figure title.\n",
       "    fig.header.textContent = msg['label'];\n",
       "}\n",
       "\n",
       "mpl.figure.prototype.handle_cursor = function(fig, msg) {\n",
       "    var cursor = msg['cursor'];\n",
       "    switch(cursor)\n",
       "    {\n",
       "    case 0:\n",
       "        cursor = 'pointer';\n",
       "        break;\n",
       "    case 1:\n",
       "        cursor = 'default';\n",
       "        break;\n",
       "    case 2:\n",
       "        cursor = 'crosshair';\n",
       "        break;\n",
       "    case 3:\n",
       "        cursor = 'move';\n",
       "        break;\n",
       "    }\n",
       "    fig.rubberband_canvas.style.cursor = cursor;\n",
       "}\n",
       "\n",
       "mpl.figure.prototype.handle_message = function(fig, msg) {\n",
       "    fig.message.textContent = msg['message'];\n",
       "}\n",
       "\n",
       "mpl.figure.prototype.handle_draw = function(fig, msg) {\n",
       "    // Request the server to send over a new figure.\n",
       "    fig.send_draw_message();\n",
       "}\n",
       "\n",
       "mpl.figure.prototype.handle_image_mode = function(fig, msg) {\n",
       "    fig.image_mode = msg['mode'];\n",
       "}\n",
       "\n",
       "mpl.figure.prototype.updated_canvas_event = function() {\n",
       "    // Called whenever the canvas gets updated.\n",
       "    this.send_message(\"ack\", {});\n",
       "}\n",
       "\n",
       "// A function to construct a web socket function for onmessage handling.\n",
       "// Called in the figure constructor.\n",
       "mpl.figure.prototype._make_on_message_function = function(fig) {\n",
       "    return function socket_on_message(evt) {\n",
       "        if (evt.data instanceof Blob) {\n",
       "            /* FIXME: We get \"Resource interpreted as Image but\n",
       "             * transferred with MIME type text/plain:\" errors on\n",
       "             * Chrome.  But how to set the MIME type?  It doesn't seem\n",
       "             * to be part of the websocket stream */\n",
       "            evt.data.type = \"image/png\";\n",
       "\n",
       "            /* Free the memory for the previous frames */\n",
       "            if (fig.imageObj.src) {\n",
       "                (window.URL || window.webkitURL).revokeObjectURL(\n",
       "                    fig.imageObj.src);\n",
       "            }\n",
       "\n",
       "            fig.imageObj.src = (window.URL || window.webkitURL).createObjectURL(\n",
       "                evt.data);\n",
       "            fig.updated_canvas_event();\n",
       "            fig.waiting = false;\n",
       "            return;\n",
       "        }\n",
       "        else if (typeof evt.data === 'string' && evt.data.slice(0, 21) == \"data:image/png;base64\") {\n",
       "            fig.imageObj.src = evt.data;\n",
       "            fig.updated_canvas_event();\n",
       "            fig.waiting = false;\n",
       "            return;\n",
       "        }\n",
       "\n",
       "        var msg = JSON.parse(evt.data);\n",
       "        var msg_type = msg['type'];\n",
       "\n",
       "        // Call the  \"handle_{type}\" callback, which takes\n",
       "        // the figure and JSON message as its only arguments.\n",
       "        try {\n",
       "            var callback = fig[\"handle_\" + msg_type];\n",
       "        } catch (e) {\n",
       "            console.log(\"No handler for the '\" + msg_type + \"' message type: \", msg);\n",
       "            return;\n",
       "        }\n",
       "\n",
       "        if (callback) {\n",
       "            try {\n",
       "                // console.log(\"Handling '\" + msg_type + \"' message: \", msg);\n",
       "                callback(fig, msg);\n",
       "            } catch (e) {\n",
       "                console.log(\"Exception inside the 'handler_\" + msg_type + \"' callback:\", e, e.stack, msg);\n",
       "            }\n",
       "        }\n",
       "    };\n",
       "}\n",
       "\n",
       "// from http://stackoverflow.com/questions/1114465/getting-mouse-location-in-canvas\n",
       "mpl.findpos = function(e) {\n",
       "    //this section is from http://www.quirksmode.org/js/events_properties.html\n",
       "    var targ;\n",
       "    if (!e)\n",
       "        e = window.event;\n",
       "    if (e.target)\n",
       "        targ = e.target;\n",
       "    else if (e.srcElement)\n",
       "        targ = e.srcElement;\n",
       "    if (targ.nodeType == 3) // defeat Safari bug\n",
       "        targ = targ.parentNode;\n",
       "\n",
       "    // jQuery normalizes the pageX and pageY\n",
       "    // pageX,Y are the mouse positions relative to the document\n",
       "    // offset() returns the position of the element relative to the document\n",
       "    var x = e.pageX - $(targ).offset().left;\n",
       "    var y = e.pageY - $(targ).offset().top;\n",
       "\n",
       "    return {\"x\": x, \"y\": y};\n",
       "};\n",
       "\n",
       "/*\n",
       " * return a copy of an object with only non-object keys\n",
       " * we need this to avoid circular references\n",
       " * http://stackoverflow.com/a/24161582/3208463\n",
       " */\n",
       "function simpleKeys (original) {\n",
       "  return Object.keys(original).reduce(function (obj, key) {\n",
       "    if (typeof original[key] !== 'object')\n",
       "        obj[key] = original[key]\n",
       "    return obj;\n",
       "  }, {});\n",
       "}\n",
       "\n",
       "mpl.figure.prototype.mouse_event = function(event, name) {\n",
       "    var canvas_pos = mpl.findpos(event)\n",
       "\n",
       "    if (name === 'button_press')\n",
       "    {\n",
       "        this.canvas.focus();\n",
       "        this.canvas_div.focus();\n",
       "    }\n",
       "\n",
       "    var x = canvas_pos.x * mpl.ratio;\n",
       "    var y = canvas_pos.y * mpl.ratio;\n",
       "\n",
       "    this.send_message(name, {x: x, y: y, button: event.button,\n",
       "                             step: event.step,\n",
       "                             guiEvent: simpleKeys(event)});\n",
       "\n",
       "    /* This prevents the web browser from automatically changing to\n",
       "     * the text insertion cursor when the button is pressed.  We want\n",
       "     * to control all of the cursor setting manually through the\n",
       "     * 'cursor' event from matplotlib */\n",
       "    event.preventDefault();\n",
       "    return false;\n",
       "}\n",
       "\n",
       "mpl.figure.prototype._key_event_extra = function(event, name) {\n",
       "    // Handle any extra behaviour associated with a key event\n",
       "}\n",
       "\n",
       "mpl.figure.prototype.key_event = function(event, name) {\n",
       "\n",
       "    // Prevent repeat events\n",
       "    if (name == 'key_press')\n",
       "    {\n",
       "        if (event.which === this._key)\n",
       "            return;\n",
       "        else\n",
       "            this._key = event.which;\n",
       "    }\n",
       "    if (name == 'key_release')\n",
       "        this._key = null;\n",
       "\n",
       "    var value = '';\n",
       "    if (event.ctrlKey && event.which != 17)\n",
       "        value += \"ctrl+\";\n",
       "    if (event.altKey && event.which != 18)\n",
       "        value += \"alt+\";\n",
       "    if (event.shiftKey && event.which != 16)\n",
       "        value += \"shift+\";\n",
       "\n",
       "    value += 'k';\n",
       "    value += event.which.toString();\n",
       "\n",
       "    this._key_event_extra(event, name);\n",
       "\n",
       "    this.send_message(name, {key: value,\n",
       "                             guiEvent: simpleKeys(event)});\n",
       "    return false;\n",
       "}\n",
       "\n",
       "mpl.figure.prototype.toolbar_button_onclick = function(name) {\n",
       "    if (name == 'download') {\n",
       "        this.handle_save(this, null);\n",
       "    } else {\n",
       "        this.send_message(\"toolbar_button\", {name: name});\n",
       "    }\n",
       "};\n",
       "\n",
       "mpl.figure.prototype.toolbar_button_onmouseover = function(tooltip) {\n",
       "    this.message.textContent = tooltip;\n",
       "};\n",
       "mpl.toolbar_items = [[\"Home\", \"Reset original view\", \"fa fa-home icon-home\", \"home\"], [\"Back\", \"Back to  previous view\", \"fa fa-arrow-left icon-arrow-left\", \"back\"], [\"Forward\", \"Forward to next view\", \"fa fa-arrow-right icon-arrow-right\", \"forward\"], [\"\", \"\", \"\", \"\"], [\"Pan\", \"Pan axes with left mouse, zoom with right\", \"fa fa-arrows icon-move\", \"pan\"], [\"Zoom\", \"Zoom to rectangle\", \"fa fa-square-o icon-check-empty\", \"zoom\"], [\"\", \"\", \"\", \"\"], [\"Download\", \"Download plot\", \"fa fa-floppy-o icon-save\", \"download\"]];\n",
       "\n",
       "mpl.extensions = [\"eps\", \"jpeg\", \"pdf\", \"png\", \"ps\", \"raw\", \"svg\", \"tif\"];\n",
       "\n",
       "mpl.default_extension = \"png\";var comm_websocket_adapter = function(comm) {\n",
       "    // Create a \"websocket\"-like object which calls the given IPython comm\n",
       "    // object with the appropriate methods. Currently this is a non binary\n",
       "    // socket, so there is still some room for performance tuning.\n",
       "    var ws = {};\n",
       "\n",
       "    ws.close = function() {\n",
       "        comm.close()\n",
       "    };\n",
       "    ws.send = function(m) {\n",
       "        //console.log('sending', m);\n",
       "        comm.send(m);\n",
       "    };\n",
       "    // Register the callback with on_msg.\n",
       "    comm.on_msg(function(msg) {\n",
       "        //console.log('receiving', msg['content']['data'], msg);\n",
       "        // Pass the mpl event to the overridden (by mpl) onmessage function.\n",
       "        ws.onmessage(msg['content']['data'])\n",
       "    });\n",
       "    return ws;\n",
       "}\n",
       "\n",
       "mpl.mpl_figure_comm = function(comm, msg) {\n",
       "    // This is the function which gets called when the mpl process\n",
       "    // starts-up an IPython Comm through the \"matplotlib\" channel.\n",
       "\n",
       "    var id = msg.content.data.id;\n",
       "    // Get hold of the div created by the display call when the Comm\n",
       "    // socket was opened in Python.\n",
       "    var element = $(\"#\" + id);\n",
       "    var ws_proxy = comm_websocket_adapter(comm)\n",
       "\n",
       "    function ondownload(figure, format) {\n",
       "        window.open(figure.imageObj.src);\n",
       "    }\n",
       "\n",
       "    var fig = new mpl.figure(id, ws_proxy,\n",
       "                           ondownload,\n",
       "                           element.get(0));\n",
       "\n",
       "    // Call onopen now - mpl needs it, as it is assuming we've passed it a real\n",
       "    // web socket which is closed, not our websocket->open comm proxy.\n",
       "    ws_proxy.onopen();\n",
       "\n",
       "    fig.parent_element = element.get(0);\n",
       "    fig.cell_info = mpl.find_output_cell(\"<div id='\" + id + \"'></div>\");\n",
       "    if (!fig.cell_info) {\n",
       "        console.error(\"Failed to find cell for figure\", id, fig);\n",
       "        return;\n",
       "    }\n",
       "\n",
       "    var output_index = fig.cell_info[2]\n",
       "    var cell = fig.cell_info[0];\n",
       "\n",
       "};\n",
       "\n",
       "mpl.figure.prototype.handle_close = function(fig, msg) {\n",
       "    var width = fig.canvas.width/mpl.ratio\n",
       "    fig.root.unbind('remove')\n",
       "\n",
       "    // Update the output cell to use the data from the current canvas.\n",
       "    fig.push_to_output();\n",
       "    var dataURL = fig.canvas.toDataURL();\n",
       "    // Re-enable the keyboard manager in IPython - without this line, in FF,\n",
       "    // the notebook keyboard shortcuts fail.\n",
       "    IPython.keyboard_manager.enable()\n",
       "    $(fig.parent_element).html('<img src=\"' + dataURL + '\" width=\"' + width + '\">');\n",
       "    fig.close_ws(fig, msg);\n",
       "}\n",
       "\n",
       "mpl.figure.prototype.close_ws = function(fig, msg){\n",
       "    fig.send_message('closing', msg);\n",
       "    // fig.ws.close()\n",
       "}\n",
       "\n",
       "mpl.figure.prototype.push_to_output = function(remove_interactive) {\n",
       "    // Turn the data on the canvas into data in the output cell.\n",
       "    var width = this.canvas.width/mpl.ratio\n",
       "    var dataURL = this.canvas.toDataURL();\n",
       "    this.cell_info[1]['text/html'] = '<img src=\"' + dataURL + '\" width=\"' + width + '\">';\n",
       "}\n",
       "\n",
       "mpl.figure.prototype.updated_canvas_event = function() {\n",
       "    // Tell IPython that the notebook contents must change.\n",
       "    IPython.notebook.set_dirty(true);\n",
       "    this.send_message(\"ack\", {});\n",
       "    var fig = this;\n",
       "    // Wait a second, then push the new image to the DOM so\n",
       "    // that it is saved nicely (might be nice to debounce this).\n",
       "    setTimeout(function () { fig.push_to_output() }, 1000);\n",
       "}\n",
       "\n",
       "mpl.figure.prototype._init_toolbar = function() {\n",
       "    var fig = this;\n",
       "\n",
       "    var nav_element = $('<div/>')\n",
       "    nav_element.attr('style', 'width: 100%');\n",
       "    this.root.append(nav_element);\n",
       "\n",
       "    // Define a callback function for later on.\n",
       "    function toolbar_event(event) {\n",
       "        return fig.toolbar_button_onclick(event['data']);\n",
       "    }\n",
       "    function toolbar_mouse_event(event) {\n",
       "        return fig.toolbar_button_onmouseover(event['data']);\n",
       "    }\n",
       "\n",
       "    for(var toolbar_ind in mpl.toolbar_items){\n",
       "        var name = mpl.toolbar_items[toolbar_ind][0];\n",
       "        var tooltip = mpl.toolbar_items[toolbar_ind][1];\n",
       "        var image = mpl.toolbar_items[toolbar_ind][2];\n",
       "        var method_name = mpl.toolbar_items[toolbar_ind][3];\n",
       "\n",
       "        if (!name) { continue; };\n",
       "\n",
       "        var button = $('<button class=\"btn btn-default\" href=\"#\" title=\"' + name + '\"><i class=\"fa ' + image + ' fa-lg\"></i></button>');\n",
       "        button.click(method_name, toolbar_event);\n",
       "        button.mouseover(tooltip, toolbar_mouse_event);\n",
       "        nav_element.append(button);\n",
       "    }\n",
       "\n",
       "    // Add the status bar.\n",
       "    var status_bar = $('<span class=\"mpl-message\" style=\"text-align:right; float: right;\"/>');\n",
       "    nav_element.append(status_bar);\n",
       "    this.message = status_bar[0];\n",
       "\n",
       "    // Add the close button to the window.\n",
       "    var buttongrp = $('<div class=\"btn-group inline pull-right\"></div>');\n",
       "    var button = $('<button class=\"btn btn-mini btn-primary\" href=\"#\" title=\"Stop Interaction\"><i class=\"fa fa-power-off icon-remove icon-large\"></i></button>');\n",
       "    button.click(function (evt) { fig.handle_close(fig, {}); } );\n",
       "    button.mouseover('Stop Interaction', toolbar_mouse_event);\n",
       "    buttongrp.append(button);\n",
       "    var titlebar = this.root.find($('.ui-dialog-titlebar'));\n",
       "    titlebar.prepend(buttongrp);\n",
       "}\n",
       "\n",
       "mpl.figure.prototype._root_extra_style = function(el){\n",
       "    var fig = this\n",
       "    el.on(\"remove\", function(){\n",
       "\tfig.close_ws(fig, {});\n",
       "    });\n",
       "}\n",
       "\n",
       "mpl.figure.prototype._canvas_extra_style = function(el){\n",
       "    // this is important to make the div 'focusable\n",
       "    el.attr('tabindex', 0)\n",
       "    // reach out to IPython and tell the keyboard manager to turn it's self\n",
       "    // off when our div gets focus\n",
       "\n",
       "    // location in version 3\n",
       "    if (IPython.notebook.keyboard_manager) {\n",
       "        IPython.notebook.keyboard_manager.register_events(el);\n",
       "    }\n",
       "    else {\n",
       "        // location in version 2\n",
       "        IPython.keyboard_manager.register_events(el);\n",
       "    }\n",
       "\n",
       "}\n",
       "\n",
       "mpl.figure.prototype._key_event_extra = function(event, name) {\n",
       "    var manager = IPython.notebook.keyboard_manager;\n",
       "    if (!manager)\n",
       "        manager = IPython.keyboard_manager;\n",
       "\n",
       "    // Check for shift+enter\n",
       "    if (event.shiftKey && event.which == 13) {\n",
       "        this.canvas_div.blur();\n",
       "        event.shiftKey = false;\n",
       "        // Send a \"J\" for go to next cell\n",
       "        event.which = 74;\n",
       "        event.keyCode = 74;\n",
       "        manager.command_mode();\n",
       "        manager.handle_keydown(event);\n",
       "    }\n",
       "}\n",
       "\n",
       "mpl.figure.prototype.handle_save = function(fig, msg) {\n",
       "    fig.ondownload(fig, null);\n",
       "}\n",
       "\n",
       "\n",
       "mpl.find_output_cell = function(html_output) {\n",
       "    // Return the cell and output element which can be found *uniquely* in the notebook.\n",
       "    // Note - this is a bit hacky, but it is done because the \"notebook_saving.Notebook\"\n",
       "    // IPython event is triggered only after the cells have been serialised, which for\n",
       "    // our purposes (turning an active figure into a static one), is too late.\n",
       "    var cells = IPython.notebook.get_cells();\n",
       "    var ncells = cells.length;\n",
       "    for (var i=0; i<ncells; i++) {\n",
       "        var cell = cells[i];\n",
       "        if (cell.cell_type === 'code'){\n",
       "            for (var j=0; j<cell.output_area.outputs.length; j++) {\n",
       "                var data = cell.output_area.outputs[j];\n",
       "                if (data.data) {\n",
       "                    // IPython >= 3 moved mimebundle to data attribute of output\n",
       "                    data = data.data;\n",
       "                }\n",
       "                if (data['text/html'] == html_output) {\n",
       "                    return [cell, data, j];\n",
       "                }\n",
       "            }\n",
       "        }\n",
       "    }\n",
       "}\n",
       "\n",
       "// Register the function which deals with the matplotlib target/channel.\n",
       "// The kernel may be null if the page has been refreshed.\n",
       "if (IPython.notebook.kernel != null) {\n",
       "    IPython.notebook.kernel.comm_manager.register_target('matplotlib', mpl.mpl_figure_comm);\n",
       "}\n"
      ],
      "text/plain": [
       "<IPython.core.display.Javascript object>"
      ]
     },
     "metadata": {},
     "output_type": "display_data"
    },
    {
     "data": {
      "text/html": [
       "<img src=\"data:image/png;base64,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\" width=\"640\">"
      ],
      "text/plain": [
       "<IPython.core.display.HTML object>"
      ]
     },
     "metadata": {},
     "output_type": "display_data"
    },
    {
     "name": "stderr",
     "output_type": "stream",
     "text": [
      "C:\\Jee\\Misc\\anaconda3\\lib\\site-packages\\numpy\\lib\\histograms.py:754: RuntimeWarning: invalid value encountered in greater_equal\n",
      "  keep = (tmp_a >= first_edge)\n",
      "C:\\Jee\\Misc\\anaconda3\\lib\\site-packages\\numpy\\lib\\histograms.py:755: RuntimeWarning: invalid value encountered in less_equal\n",
      "  keep &= (tmp_a <= last_edge)\n"
     ]
    },
    {
     "data": {
      "text/plain": [
       "(array([7.0000e+00, 6.0000e+00, 2.0000e+01, 6.5000e+01, 9.4000e+01,\n",
       "        1.4200e+02, 2.9400e+02, 5.2600e+02, 1.2510e+03, 1.8450e+03,\n",
       "        2.5780e+03, 4.0870e+03, 6.1890e+03, 9.6500e+03, 1.3745e+04,\n",
       "        1.8366e+04, 2.0310e+04, 2.0773e+04, 1.9382e+04, 1.8784e+04,\n",
       "        1.5915e+04, 1.1254e+04, 7.5250e+03, 4.9470e+03, 2.8290e+03,\n",
       "        1.4590e+03, 7.4800e+02, 2.2800e+02, 8.4000e+01, 3.9000e+01]),\n",
       " array([33.        , 35.03333333, 37.06666667, 39.1       , 41.13333333,\n",
       "        43.16666667, 45.2       , 47.23333333, 49.26666667, 51.3       ,\n",
       "        53.33333333, 55.36666667, 57.4       , 59.43333333, 61.46666667,\n",
       "        63.5       , 65.53333333, 67.56666667, 69.6       , 71.63333333,\n",
       "        73.66666667, 75.7       , 77.73333333, 79.76666667, 81.8       ,\n",
       "        83.83333333, 85.86666667, 87.9       , 89.93333333, 91.96666667,\n",
       "        94.        ]),\n",
       " <a list of 30 Patch objects>)"
      ]
     },
     "execution_count": 12,
     "metadata": {},
     "output_type": "execute_result"
    }
   ],
   "source": [
    "plt.hist(target, 30, range=(33, 94))"
   ]
  },
  {
   "cell_type": "markdown",
   "metadata": {
    "colab_type": "text",
    "id": "-Zj_7_fvDMSD"
   },
   "source": [
    "almost normal distribution so we can impute mean value for missing value in target."
   ]
  },
  {
   "cell_type": "code",
   "execution_count": 13,
   "metadata": {
    "colab": {
     "autoexec": {
      "startup": false,
      "wait_interval": 0
     }
    },
    "colab_type": "code",
    "id": "iEvCUfinDMSF"
   },
   "outputs": [],
   "source": [
    "y = target.fillna(target.mean())"
   ]
  },
  {
   "cell_type": "code",
   "execution_count": 14,
   "metadata": {
    "colab": {
     "autoexec": {
      "startup": false,
      "wait_interval": 0
     },
     "base_uri": "https://localhost:8080/",
     "height": 34
    },
    "colab_type": "code",
    "executionInfo": {
     "elapsed": 822,
     "status": "ok",
     "timestamp": 1525756645277,
     "user": {
      "displayName": "prakash mishra",
      "photoUrl": "//lh4.googleusercontent.com/-Ej6Y_cq-EAg/AAAAAAAAAAI/AAAAAAAAU3w/qb7u8oox_eU/s50-c-k-no/photo.jpg",
      "userId": "115150043305705155208"
     },
     "user_tz": -330
    },
    "id": "oM40EGOWDMSK",
    "outputId": "53e6845c-c02f-4f92-95ac-daee6fb522de"
   },
   "outputs": [
    {
     "data": {
      "text/plain": [
       "False"
      ]
     },
     "execution_count": 14,
     "metadata": {},
     "output_type": "execute_result"
    }
   ],
   "source": [
    "y.isnull().values.any()"
   ]
  },
  {
   "cell_type": "markdown",
   "metadata": {
    "colab_type": "text",
    "id": "9CVJ7hzADMSS"
   },
   "source": [
    "## Data Exploration :"
   ]
  },
  {
   "cell_type": "code",
   "execution_count": 15,
   "metadata": {
    "colab": {
     "autoexec": {
      "startup": false,
      "wait_interval": 0
     },
     "base_uri": "https://localhost:8080/",
     "height": 187
    },
    "colab_type": "code",
    "executionInfo": {
     "elapsed": 790,
     "status": "ok",
     "timestamp": 1525756646158,
     "user": {
      "displayName": "prakash mishra",
      "photoUrl": "//lh4.googleusercontent.com/-Ej6Y_cq-EAg/AAAAAAAAAAI/AAAAAAAAU3w/qb7u8oox_eU/s50-c-k-no/photo.jpg",
      "userId": "115150043305705155208"
     },
     "user_tz": -330
    },
    "id": "Pei2A7WNDMSU",
    "outputId": "5cf68439-503c-4ed0-fd3d-0d075a9766c3"
   },
   "outputs": [
    {
     "data": {
      "text/plain": [
       "Index(['id', 'player_fifa_api_id', 'player_api_id', 'date', 'potential',\n",
       "       'preferred_foot', 'attacking_work_rate', 'defensive_work_rate',\n",
       "       'crossing', 'finishing', 'heading_accuracy', 'short_passing', 'volleys',\n",
       "       'dribbling', 'curve', 'free_kick_accuracy', 'long_passing',\n",
       "       'ball_control', 'acceleration', 'sprint_speed', 'agility', 'reactions',\n",
       "       'balance', 'shot_power', 'jumping', 'stamina', 'strength', 'long_shots',\n",
       "       'aggression', 'interceptions', 'positioning', 'vision', 'penalties',\n",
       "       'marking', 'standing_tackle', 'sliding_tackle', 'gk_diving',\n",
       "       'gk_handling', 'gk_kicking', 'gk_positioning', 'gk_reflexes'],\n",
       "      dtype='object')"
      ]
     },
     "execution_count": 15,
     "metadata": {},
     "output_type": "execute_result"
    }
   ],
   "source": [
    "df.columns"
   ]
  },
  {
   "cell_type": "code",
   "execution_count": 16,
   "metadata": {
    "colab": {
     "autoexec": {
      "startup": false,
      "wait_interval": 0
     },
     "base_uri": "https://localhost:8080/",
     "height": 714
    },
    "colab_type": "code",
    "executionInfo": {
     "elapsed": 775,
     "status": "ok",
     "timestamp": 1525756647032,
     "user": {
      "displayName": "prakash mishra",
      "photoUrl": "//lh4.googleusercontent.com/-Ej6Y_cq-EAg/AAAAAAAAAAI/AAAAAAAAU3w/qb7u8oox_eU/s50-c-k-no/photo.jpg",
      "userId": "115150043305705155208"
     },
     "user_tz": -330
    },
    "id": "Pl2XTKn2DMSc",
    "outputId": "e4227406-88d5-450a-d3e8-50049cb5c189"
   },
   "outputs": [
    {
     "name": "stdout",
     "output_type": "stream",
     "text": [
      "id--> 183978..int64\n",
      "player_fifa_api_id--> 11062..int64\n",
      "player_api_id--> 11060..int64\n",
      "date--> 197..object\n",
      "potential--> 57..float64\n",
      "preferred_foot--> 3..object\n",
      "attacking_work_rate--> 9..object\n",
      "defensive_work_rate--> 20..object\n",
      "crossing--> 96..float64\n",
      "finishing--> 98..float64\n",
      "heading_accuracy--> 97..float64\n",
      "short_passing--> 96..float64\n",
      "volleys--> 94..float64\n",
      "dribbling--> 98..float64\n",
      "curve--> 93..float64\n",
      "free_kick_accuracy--> 98..float64\n",
      "long_passing--> 96..float64\n",
      "ball_control--> 94..float64\n",
      "acceleration--> 87..float64\n",
      "sprint_speed--> 86..float64\n",
      "agility--> 82..float64\n",
      "reactions--> 79..float64\n",
      "balance--> 82..float64\n",
      "shot_power--> 97..float64\n",
      "jumping--> 80..float64\n",
      "stamina--> 85..float64\n",
      "strength--> 83..float64\n",
      "long_shots--> 97..float64\n",
      "aggression--> 92..float64\n",
      "interceptions--> 97..float64\n",
      "positioning--> 96..float64\n",
      "vision--> 98..float64\n",
      "penalties--> 95..float64\n",
      "marking--> 96..float64\n",
      "standing_tackle--> 96..float64\n",
      "sliding_tackle--> 95..float64\n",
      "gk_diving--> 94..float64\n",
      "gk_handling--> 91..float64\n",
      "gk_kicking--> 98..float64\n",
      "gk_positioning--> 95..float64\n",
      "gk_reflexes--> 93..float64\n"
     ]
    }
   ],
   "source": [
    "for col in df.columns:\n",
    "    unique_cat = len(df[col].unique())\n",
    "    print(\"{col}--> {unique_cat}..{typ}\".format(col=col, unique_cat=unique_cat, typ=df[col].dtype))"
   ]
  },
  {
   "cell_type": "markdown",
   "metadata": {
    "colab_type": "text",
    "id": "jcRinkJGDMSg"
   },
   "source": [
    "we can see only four features have the type 'object'. here the feature named 'date' has no significance in this problem so can ignore it and perform one hot encoding on the rest of 3 features."
   ]
  },
  {
   "cell_type": "code",
   "execution_count": 17,
   "metadata": {
    "colab": {
     "autoexec": {
      "startup": false,
      "wait_interval": 0
     },
     "base_uri": "https://localhost:8080/",
     "height": 423
    },
    "colab_type": "code",
    "executionInfo": {
     "elapsed": 774,
     "status": "ok",
     "timestamp": 1525756647951,
     "user": {
      "displayName": "prakash mishra",
      "photoUrl": "//lh4.googleusercontent.com/-Ej6Y_cq-EAg/AAAAAAAAAAI/AAAAAAAAU3w/qb7u8oox_eU/s50-c-k-no/photo.jpg",
      "userId": "115150043305705155208"
     },
     "user_tz": -330
    },
    "id": "q3M5h6SZDMSi",
    "outputId": "d43983a6-46bb-474a-a141-78ea06ce13db"
   },
   "outputs": [
    {
     "data": {
      "text/html": [
       "<div>\n",
       "<style scoped>\n",
       "    .dataframe tbody tr th:only-of-type {\n",
       "        vertical-align: middle;\n",
       "    }\n",
       "\n",
       "    .dataframe tbody tr th {\n",
       "        vertical-align: top;\n",
       "    }\n",
       "\n",
       "    .dataframe thead th {\n",
       "        text-align: right;\n",
       "    }\n",
       "</style>\n",
       "<table border=\"1\" class=\"dataframe\">\n",
       "  <thead>\n",
       "    <tr style=\"text-align: right;\">\n",
       "      <th></th>\n",
       "      <th>id</th>\n",
       "      <th>player_fifa_api_id</th>\n",
       "      <th>player_api_id</th>\n",
       "      <th>date</th>\n",
       "      <th>potential</th>\n",
       "      <th>crossing</th>\n",
       "      <th>finishing</th>\n",
       "      <th>heading_accuracy</th>\n",
       "      <th>short_passing</th>\n",
       "      <th>volleys</th>\n",
       "      <th>...</th>\n",
       "      <th>defensive_work_rate_9</th>\n",
       "      <th>defensive_work_rate__0</th>\n",
       "      <th>defensive_work_rate_ean</th>\n",
       "      <th>defensive_work_rate_es</th>\n",
       "      <th>defensive_work_rate_high</th>\n",
       "      <th>defensive_work_rate_low</th>\n",
       "      <th>defensive_work_rate_medium</th>\n",
       "      <th>defensive_work_rate_o</th>\n",
       "      <th>defensive_work_rate_ormal</th>\n",
       "      <th>defensive_work_rate_tocky</th>\n",
       "    </tr>\n",
       "  </thead>\n",
       "  <tbody>\n",
       "    <tr>\n",
       "      <th>0</th>\n",
       "      <td>1</td>\n",
       "      <td>218353</td>\n",
       "      <td>505942</td>\n",
       "      <td>2016-02-18 00:00:00</td>\n",
       "      <td>71.0</td>\n",
       "      <td>49.0</td>\n",
       "      <td>44.0</td>\n",
       "      <td>71.0</td>\n",
       "      <td>61.0</td>\n",
       "      <td>44.0</td>\n",
       "      <td>...</td>\n",
       "      <td>0</td>\n",
       "      <td>0</td>\n",
       "      <td>0</td>\n",
       "      <td>0</td>\n",
       "      <td>0</td>\n",
       "      <td>0</td>\n",
       "      <td>1</td>\n",
       "      <td>0</td>\n",
       "      <td>0</td>\n",
       "      <td>0</td>\n",
       "    </tr>\n",
       "    <tr>\n",
       "      <th>1</th>\n",
       "      <td>2</td>\n",
       "      <td>218353</td>\n",
       "      <td>505942</td>\n",
       "      <td>2015-11-19 00:00:00</td>\n",
       "      <td>71.0</td>\n",
       "      <td>49.0</td>\n",
       "      <td>44.0</td>\n",
       "      <td>71.0</td>\n",
       "      <td>61.0</td>\n",
       "      <td>44.0</td>\n",
       "      <td>...</td>\n",
       "      <td>0</td>\n",
       "      <td>0</td>\n",
       "      <td>0</td>\n",
       "      <td>0</td>\n",
       "      <td>0</td>\n",
       "      <td>0</td>\n",
       "      <td>1</td>\n",
       "      <td>0</td>\n",
       "      <td>0</td>\n",
       "      <td>0</td>\n",
       "    </tr>\n",
       "    <tr>\n",
       "      <th>2</th>\n",
       "      <td>3</td>\n",
       "      <td>218353</td>\n",
       "      <td>505942</td>\n",
       "      <td>2015-09-21 00:00:00</td>\n",
       "      <td>66.0</td>\n",
       "      <td>49.0</td>\n",
       "      <td>44.0</td>\n",
       "      <td>71.0</td>\n",
       "      <td>61.0</td>\n",
       "      <td>44.0</td>\n",
       "      <td>...</td>\n",
       "      <td>0</td>\n",
       "      <td>0</td>\n",
       "      <td>0</td>\n",
       "      <td>0</td>\n",
       "      <td>0</td>\n",
       "      <td>0</td>\n",
       "      <td>1</td>\n",
       "      <td>0</td>\n",
       "      <td>0</td>\n",
       "      <td>0</td>\n",
       "    </tr>\n",
       "    <tr>\n",
       "      <th>3</th>\n",
       "      <td>4</td>\n",
       "      <td>218353</td>\n",
       "      <td>505942</td>\n",
       "      <td>2015-03-20 00:00:00</td>\n",
       "      <td>65.0</td>\n",
       "      <td>48.0</td>\n",
       "      <td>43.0</td>\n",
       "      <td>70.0</td>\n",
       "      <td>60.0</td>\n",
       "      <td>43.0</td>\n",
       "      <td>...</td>\n",
       "      <td>0</td>\n",
       "      <td>0</td>\n",
       "      <td>0</td>\n",
       "      <td>0</td>\n",
       "      <td>0</td>\n",
       "      <td>0</td>\n",
       "      <td>1</td>\n",
       "      <td>0</td>\n",
       "      <td>0</td>\n",
       "      <td>0</td>\n",
       "    </tr>\n",
       "    <tr>\n",
       "      <th>4</th>\n",
       "      <td>5</td>\n",
       "      <td>218353</td>\n",
       "      <td>505942</td>\n",
       "      <td>2007-02-22 00:00:00</td>\n",
       "      <td>65.0</td>\n",
       "      <td>48.0</td>\n",
       "      <td>43.0</td>\n",
       "      <td>70.0</td>\n",
       "      <td>60.0</td>\n",
       "      <td>43.0</td>\n",
       "      <td>...</td>\n",
       "      <td>0</td>\n",
       "      <td>0</td>\n",
       "      <td>0</td>\n",
       "      <td>0</td>\n",
       "      <td>0</td>\n",
       "      <td>0</td>\n",
       "      <td>1</td>\n",
       "      <td>0</td>\n",
       "      <td>0</td>\n",
       "      <td>0</td>\n",
       "    </tr>\n",
       "  </tbody>\n",
       "</table>\n",
       "<p>5 rows × 67 columns</p>\n",
       "</div>"
      ],
      "text/plain": [
       "   id  player_fifa_api_id  player_api_id                 date  potential  \\\n",
       "0   1              218353         505942  2016-02-18 00:00:00       71.0   \n",
       "1   2              218353         505942  2015-11-19 00:00:00       71.0   \n",
       "2   3              218353         505942  2015-09-21 00:00:00       66.0   \n",
       "3   4              218353         505942  2015-03-20 00:00:00       65.0   \n",
       "4   5              218353         505942  2007-02-22 00:00:00       65.0   \n",
       "\n",
       "   crossing  finishing  heading_accuracy  short_passing  volleys  \\\n",
       "0      49.0       44.0              71.0           61.0     44.0   \n",
       "1      49.0       44.0              71.0           61.0     44.0   \n",
       "2      49.0       44.0              71.0           61.0     44.0   \n",
       "3      48.0       43.0              70.0           60.0     43.0   \n",
       "4      48.0       43.0              70.0           60.0     43.0   \n",
       "\n",
       "             ...              defensive_work_rate_9  defensive_work_rate__0  \\\n",
       "0            ...                                  0                       0   \n",
       "1            ...                                  0                       0   \n",
       "2            ...                                  0                       0   \n",
       "3            ...                                  0                       0   \n",
       "4            ...                                  0                       0   \n",
       "\n",
       "   defensive_work_rate_ean  defensive_work_rate_es  defensive_work_rate_high  \\\n",
       "0                        0                       0                         0   \n",
       "1                        0                       0                         0   \n",
       "2                        0                       0                         0   \n",
       "3                        0                       0                         0   \n",
       "4                        0                       0                         0   \n",
       "\n",
       "   defensive_work_rate_low  defensive_work_rate_medium  defensive_work_rate_o  \\\n",
       "0                        0                           1                      0   \n",
       "1                        0                           1                      0   \n",
       "2                        0                           1                      0   \n",
       "3                        0                           1                      0   \n",
       "4                        0                           1                      0   \n",
       "\n",
       "   defensive_work_rate_ormal  defensive_work_rate_tocky  \n",
       "0                          0                          0  \n",
       "1                          0                          0  \n",
       "2                          0                          0  \n",
       "3                          0                          0  \n",
       "4                          0                          0  \n",
       "\n",
       "[5 rows x 67 columns]"
      ]
     },
     "execution_count": 17,
     "metadata": {},
     "output_type": "execute_result"
    }
   ],
   "source": [
    "dummy_df = pd.get_dummies(df, columns=['preferred_foot', 'attacking_work_rate', 'defensive_work_rate'])\n",
    "dummy_df.head()"
   ]
  },
  {
   "cell_type": "code",
   "execution_count": 18,
   "metadata": {
    "colab": {
     "autoexec": {
      "startup": false,
      "wait_interval": 0
     }
    },
    "colab_type": "code",
    "id": "dRhHrNnQDMSn"
   },
   "outputs": [],
   "source": [
    "X = dummy_df.drop(['id', 'date'], axis=1)"
   ]
  },
  {
   "cell_type": "markdown",
   "metadata": {
    "colab_type": "text",
    "id": "5EqUC5rMDMSr"
   },
   "source": [
    "***\n",
    "## Feature selection :"
   ]
  },
  {
   "cell_type": "markdown",
   "metadata": {
    "colab_type": "text",
    "id": "lr9IlTXsDMSs"
   },
   "source": [
    "* As tree model doesn't gets affected by missing values present in data set. but feature selection by `SelectFromModel` can not be done on datasets that carries null value. Therefore, we should also perform imputation on dataset. "
   ]
  },
  {
   "cell_type": "code",
   "execution_count": 19,
   "metadata": {
    "colab": {
     "autoexec": {
      "startup": false,
      "wait_interval": 0
     }
    },
    "colab_type": "code",
    "id": "JQYznncKDMSu"
   },
   "outputs": [],
   "source": [
    "X_train, X_test, y_train, y_test = train_test_split(X, y, test_size=0.25, random_state=42)"
   ]
  },
  {
   "cell_type": "code",
   "execution_count": 20,
   "metadata": {
    "colab": {
     "autoexec": {
      "startup": false,
      "wait_interval": 0
     }
    },
    "colab_type": "code",
    "id": "wbgBq4wdDMSw"
   },
   "outputs": [],
   "source": [
    "#imputing null value of each column with the mean of that column\n",
    "from sklearn.impute import SimpleImputer\n",
    "imput = SimpleImputer()\n",
    "X_train = imput.fit_transform(X_train)\n",
    "X_test = imput.fit_transform(X_test)"
   ]
  },
  {
   "cell_type": "code",
   "execution_count": 21,
   "metadata": {
    "colab": {
     "autoexec": {
      "startup": false,
      "wait_interval": 0
     },
     "base_uri": "https://localhost:8080/",
     "height": 204
    },
    "colab_type": "code",
    "executionInfo": {
     "elapsed": 26174,
     "status": "ok",
     "timestamp": 1525756677084,
     "user": {
      "displayName": "prakash mishra",
      "photoUrl": "//lh4.googleusercontent.com/-Ej6Y_cq-EAg/AAAAAAAAAAI/AAAAAAAAU3w/qb7u8oox_eU/s50-c-k-no/photo.jpg",
      "userId": "115150043305705155208"
     },
     "user_tz": -330
    },
    "id": "FYtv4rVpDMS_",
    "outputId": "9eb1838a-3771-46db-ccee-eeec38ee5560"
   },
   "outputs": [
    {
     "name": "stdout",
     "output_type": "stream",
     "text": [
      "[0.01714286 0.02       0.10714286 0.02       0.04714286 0.03571429\n",
      " 0.03285714 0.         0.04       0.         0.         0.00714286\n",
      " 0.04714286 0.01       0.01571429 0.00142857 0.18571429 0.\n",
      " 0.01428571 0.00571429 0.00857143 0.03142857 0.00571429 0.00714286\n",
      " 0.01857143 0.01857143 0.00571429 0.         0.04285714 0.04571429\n",
      " 0.01       0.04571429 0.02571429 0.02428572 0.06       0.04285714\n",
      " 0.         0.         0.         0.         0.         0.\n",
      " 0.         0.         0.         0.         0.         0.\n",
      " 0.         0.         0.         0.         0.         0.\n",
      " 0.         0.         0.         0.         0.         0.\n",
      " 0.         0.         0.         0.         0.        ]\n"
     ]
    }
   ],
   "source": [
    "#finding feature_importance for feature selection. from it we'll be able to decide threshold value\n",
    "model = XGBRegressor()\n",
    "model.fit(X_train, y_train)\n",
    "print(model.feature_importances_)"
   ]
  },
  {
   "cell_type": "code",
   "execution_count": 22,
   "metadata": {
    "colab": {
     "autoexec": {
      "startup": false,
      "wait_interval": 0
     }
    },
    "colab_type": "code",
    "id": "hvl6bt6LDMTC"
   },
   "outputs": [],
   "source": [
    "selection = SelectFromModel(model, threshold=0.01, prefit=True)\n",
    "\n",
    "select_X_train = selection.transform(X_train)\n",
    "select_X_test = selection.transform(X_test)"
   ]
  },
  {
   "cell_type": "code",
   "execution_count": 23,
   "metadata": {
    "colab": {
     "autoexec": {
      "startup": false,
      "wait_interval": 0
     },
     "base_uri": "https://localhost:8080/",
     "height": 34
    },
    "colab_type": "code",
    "executionInfo": {
     "elapsed": 1249,
     "status": "ok",
     "timestamp": 1525756679323,
     "user": {
      "displayName": "prakash mishra",
      "photoUrl": "//lh4.googleusercontent.com/-Ej6Y_cq-EAg/AAAAAAAAAAI/AAAAAAAAU3w/qb7u8oox_eU/s50-c-k-no/photo.jpg",
      "userId": "115150043305705155208"
     },
     "user_tz": -330
    },
    "id": "7sqTc4sTDMTF",
    "outputId": "a153b631-99dd-41bf-c306-30d71ecf311c"
   },
   "outputs": [
    {
     "data": {
      "text/plain": [
       "(137983, 24)"
      ]
     },
     "execution_count": 23,
     "metadata": {},
     "output_type": "execute_result"
    }
   ],
   "source": [
    "select_X_train.shape"
   ]
  },
  {
   "cell_type": "markdown",
   "metadata": {
    "colab_type": "text",
    "id": "0j6TvWQcDMTI"
   },
   "source": [
    "## Training different models :"
   ]
  },
  {
   "cell_type": "markdown",
   "metadata": {
    "colab_type": "text",
    "id": "i5VPckscL4bs"
   },
   "source": [
    "### 1. Linear Regression :"
   ]
  },
  {
   "cell_type": "code",
   "execution_count": 24,
   "metadata": {
    "colab": {
     "autoexec": {
      "startup": false,
      "wait_interval": 0
     }
    },
    "colab_type": "code",
    "id": "8jBCiW43MGWB"
   },
   "outputs": [],
   "source": [
    "pipe = make_pipeline(StandardScaler(),             #preprocessing(standard scalling)\n",
    "                     LinearRegression())           #estimator(linear regression)\n",
    "\n",
    "cv = ShuffleSplit(random_state=0)   #defining type of cross_validation(shuffle spliting)\n",
    "\n",
    "param_grid = {'linearregression__n_jobs': [-1]}     #parameters for model tunning\n",
    "\n",
    "grid = GridSearchCV(pipe, param_grid=param_grid, cv=cv)"
   ]
  },
  {
   "cell_type": "code",
   "execution_count": 25,
   "metadata": {
    "colab": {
     "autoexec": {
      "startup": false,
      "wait_interval": 0
     },
     "base_uri": "https://localhost:8080/",
     "height": 190
    },
    "colab_type": "code",
    "executionInfo": {
     "elapsed": 3265,
     "status": "ok",
     "timestamp": 1525757630743,
     "user": {
      "displayName": "prakash mishra",
      "photoUrl": "//lh4.googleusercontent.com/-Ej6Y_cq-EAg/AAAAAAAAAAI/AAAAAAAAU3w/qb7u8oox_eU/s50-c-k-no/photo.jpg",
      "userId": "115150043305705155208"
     },
     "user_tz": -330
    },
    "id": "Q5YuQsmRMGc8",
    "outputId": "e552c95b-9cc1-4c79-97b5-3cc32c580645"
   },
   "outputs": [
    {
     "data": {
      "text/plain": [
       "GridSearchCV(cv=ShuffleSplit(n_splits=10, random_state=0, test_size='default',\n",
       "       train_size=None),\n",
       "       error_score='raise-deprecating',\n",
       "       estimator=Pipeline(memory=None,\n",
       "     steps=[('standardscaler', StandardScaler(copy=True, with_mean=True, with_std=True)), ('linearregression', LinearRegression(copy_X=True, fit_intercept=True, n_jobs=None,\n",
       "         normalize=False))]),\n",
       "       fit_params=None, iid='warn', n_jobs=None,\n",
       "       param_grid={'linearregression__n_jobs': [-1]},\n",
       "       pre_dispatch='2*n_jobs', refit=True, return_train_score='warn',\n",
       "       scoring=None, verbose=0)"
      ]
     },
     "execution_count": 25,
     "metadata": {},
     "output_type": "execute_result"
    }
   ],
   "source": [
    "grid.fit(select_X_train, y_train)          #training "
   ]
  },
  {
   "cell_type": "code",
   "execution_count": 26,
   "metadata": {
    "colab": {
     "autoexec": {
      "startup": false,
      "wait_interval": 0
     },
     "base_uri": "https://localhost:8080/",
     "height": 34
    },
    "colab_type": "code",
    "executionInfo": {
     "elapsed": 891,
     "status": "ok",
     "timestamp": 1525757663366,
     "user": {
      "displayName": "prakash mishra",
      "photoUrl": "//lh4.googleusercontent.com/-Ej6Y_cq-EAg/AAAAAAAAAAI/AAAAAAAAU3w/qb7u8oox_eU/s50-c-k-no/photo.jpg",
      "userId": "115150043305705155208"
     },
     "user_tz": -330
    },
    "id": "-3eGL__MPkhh",
    "outputId": "bb23bb86-0361-499b-9f29-10a7d21c05f4"
   },
   "outputs": [
    {
     "data": {
      "text/plain": [
       "{'linearregression__n_jobs': -1}"
      ]
     },
     "execution_count": 26,
     "metadata": {},
     "output_type": "execute_result"
    }
   ],
   "source": [
    "grid.best_params_"
   ]
  },
  {
   "cell_type": "code",
   "execution_count": 27,
   "metadata": {
    "colab": {
     "autoexec": {
      "startup": false,
      "wait_interval": 0
     }
    },
    "colab_type": "code",
    "id": "wIhIICZgQnHx"
   },
   "outputs": [],
   "source": [
    "lin_reg = pickle.dumps(grid)"
   ]
  },
  {
   "cell_type": "markdown",
   "metadata": {
    "colab_type": "text",
    "id": "ycqocdHZYX9j"
   },
   "source": [
    "### 2. Decision Tree :"
   ]
  },
  {
   "cell_type": "code",
   "execution_count": 28,
   "metadata": {
    "colab": {
     "autoexec": {
      "startup": false,
      "wait_interval": 0
     }
    },
    "colab_type": "code",
    "id": "qlIJwsCWYc0K"
   },
   "outputs": [],
   "source": [
    "pipe = make_pipeline(StandardScaler(),                  #preprocessing\n",
    "                     DecisionTreeRegressor(criterion='mse', random_state=0))          #estimator\n",
    "\n",
    "cv = ShuffleSplit(n_splits=10, random_state=42)        #cross validation\n",
    "\n",
    "param_grid = {'decisiontreeregressor__max_depth': [3, 5, 7, 9, 13]}\n",
    "\n",
    "grid = GridSearchCV(pipe, param_grid=param_grid, cv=cv)"
   ]
  },
  {
   "cell_type": "code",
   "execution_count": 29,
   "metadata": {
    "colab": {
     "autoexec": {
      "startup": false,
      "wait_interval": 0
     },
     "base_uri": "https://localhost:8080/",
     "height": 258
    },
    "colab_type": "code",
    "executionInfo": {
     "elapsed": 57317,
     "status": "ok",
     "timestamp": 1525760769471,
     "user": {
      "displayName": "prakash mishra",
      "photoUrl": "//lh4.googleusercontent.com/-Ej6Y_cq-EAg/AAAAAAAAAAI/AAAAAAAAU3w/qb7u8oox_eU/s50-c-k-no/photo.jpg",
      "userId": "115150043305705155208"
     },
     "user_tz": -330
    },
    "id": "dhU3N14ZYc60",
    "outputId": "16c70b5f-8b6b-48c7-cc4c-83b40e5503f0"
   },
   "outputs": [
    {
     "data": {
      "text/plain": [
       "GridSearchCV(cv=ShuffleSplit(n_splits=10, random_state=42, test_size='default',\n",
       "       train_size=None),\n",
       "       error_score='raise-deprecating',\n",
       "       estimator=Pipeline(memory=None,\n",
       "     steps=[('standardscaler', StandardScaler(copy=True, with_mean=True, with_std=True)), ('decisiontreeregressor', DecisionTreeRegressor(criterion='mse', max_depth=None, max_features=None,\n",
       "           max_leaf_nodes=None, min_impurity_decrease=0.0,\n",
       "           min_impurity_split=None, min_samples_leaf=1,\n",
       "           min_samples_split=2, min_weight_fraction_leaf=0.0,\n",
       "           presort=False, random_state=0, splitter='best'))]),\n",
       "       fit_params=None, iid='warn', n_jobs=None,\n",
       "       param_grid={'decisiontreeregressor__max_depth': [3, 5, 7, 9, 13]},\n",
       "       pre_dispatch='2*n_jobs', refit=True, return_train_score='warn',\n",
       "       scoring=None, verbose=0)"
      ]
     },
     "execution_count": 29,
     "metadata": {},
     "output_type": "execute_result"
    }
   ],
   "source": [
    "grid.fit(select_X_train, y_train)          #training "
   ]
  },
  {
   "cell_type": "code",
   "execution_count": 30,
   "metadata": {
    "colab": {
     "autoexec": {
      "startup": false,
      "wait_interval": 0
     },
     "base_uri": "https://localhost:8080/",
     "height": 34
    },
    "colab_type": "code",
    "executionInfo": {
     "elapsed": 803,
     "status": "ok",
     "timestamp": 1525760784877,
     "user": {
      "displayName": "prakash mishra",
      "photoUrl": "//lh4.googleusercontent.com/-Ej6Y_cq-EAg/AAAAAAAAAAI/AAAAAAAAU3w/qb7u8oox_eU/s50-c-k-no/photo.jpg",
      "userId": "115150043305705155208"
     },
     "user_tz": -330
    },
    "id": "6SRj368DYdMX",
    "outputId": "e1d1bc57-d8a8-4963-fd64-cd5f0d90ee4e"
   },
   "outputs": [
    {
     "data": {
      "text/plain": [
       "{'decisiontreeregressor__max_depth': 13}"
      ]
     },
     "execution_count": 30,
     "metadata": {},
     "output_type": "execute_result"
    }
   ],
   "source": [
    "grid.best_params_"
   ]
  },
  {
   "cell_type": "code",
   "execution_count": 31,
   "metadata": {
    "colab": {
     "autoexec": {
      "startup": false,
      "wait_interval": 0
     }
    },
    "colab_type": "code",
    "id": "PTLIxQF9Yc5P"
   },
   "outputs": [],
   "source": [
    "Dectree_reg = pickle.dumps(grid)"
   ]
  },
  {
   "cell_type": "markdown",
   "metadata": {
    "colab_type": "text",
    "id": "-dJ_uGELbZSx"
   },
   "source": [
    "### 3. Random Forest :"
   ]
  },
  {
   "cell_type": "code",
   "execution_count": 32,
   "metadata": {
    "colab": {
     "autoexec": {
      "startup": false,
      "wait_interval": 0
     }
    },
    "colab_type": "code",
    "id": "vJLhkkegbjVB"
   },
   "outputs": [],
   "source": [
    "pipe = make_pipeline(StandardScaler(),\n",
    "                     RandomForestRegressor(n_estimators=10, random_state=12))\n",
    "\n",
    "cv = ShuffleSplit(test_size=0.2, random_state=0)\n",
    "\n",
    "param_grid = {'randomforestregressor__max_features':['sqrt', 'log2', 10],\n",
    "              'randomforestregressor__max_depth':[9, 11, 13]}                 \n",
    "\n",
    "grid = GridSearchCV(pipe, param_grid=param_grid, cv=cv)"
   ]
  },
  {
   "cell_type": "code",
   "execution_count": 33,
   "metadata": {
    "colab": {
     "autoexec": {
      "startup": false,
      "wait_interval": 0
     }
    },
    "colab_type": "code",
    "id": "19ii05xDbjb2"
   },
   "outputs": [
    {
     "data": {
      "text/plain": [
       "GridSearchCV(cv=ShuffleSplit(n_splits=10, random_state=0, test_size=0.2, train_size=None),\n",
       "       error_score='raise-deprecating',\n",
       "       estimator=Pipeline(memory=None,\n",
       "     steps=[('standardscaler', StandardScaler(copy=True, with_mean=True, with_std=True)), ('randomforestregressor', RandomForestRegressor(bootstrap=True, criterion='mse', max_depth=None,\n",
       "           max_features='auto', max_leaf_nodes=None,\n",
       "           min_impurity_decr...mators=10, n_jobs=None,\n",
       "           oob_score=False, random_state=12, verbose=0, warm_start=False))]),\n",
       "       fit_params=None, iid='warn', n_jobs=None,\n",
       "       param_grid={'randomforestregressor__max_features': ['sqrt', 'log2', 10], 'randomforestregressor__max_depth': [9, 11, 13]},\n",
       "       pre_dispatch='2*n_jobs', refit=True, return_train_score='warn',\n",
       "       scoring=None, verbose=0)"
      ]
     },
     "execution_count": 33,
     "metadata": {},
     "output_type": "execute_result"
    }
   ],
   "source": [
    "grid.fit(select_X_train, y_train)          #training "
   ]
  },
  {
   "cell_type": "code",
   "execution_count": 34,
   "metadata": {
    "colab": {
     "autoexec": {
      "startup": false,
      "wait_interval": 0
     }
    },
    "colab_type": "code",
    "id": "1c9kqH3Pbjip"
   },
   "outputs": [
    {
     "data": {
      "text/plain": [
       "{'randomforestregressor__max_depth': 13,\n",
       " 'randomforestregressor__max_features': 10}"
      ]
     },
     "execution_count": 34,
     "metadata": {},
     "output_type": "execute_result"
    }
   ],
   "source": [
    "grid.best_params_"
   ]
  },
  {
   "cell_type": "code",
   "execution_count": 35,
   "metadata": {
    "colab": {
     "autoexec": {
      "startup": false,
      "wait_interval": 0
     }
    },
    "colab_type": "code",
    "id": "RYC89pGzbjhM"
   },
   "outputs": [],
   "source": [
    "Randfor_reg = pickle.dumps(grid)"
   ]
  },
  {
   "cell_type": "markdown",
   "metadata": {
    "colab_type": "text",
    "id": "sBRwKR42P_6i"
   },
   "source": [
    "### 4. Xgboost regressor :"
   ]
  },
  {
   "cell_type": "code",
   "execution_count": 36,
   "metadata": {
    "colab": {
     "autoexec": {
      "startup": false,
      "wait_interval": 0
     }
    },
    "colab_type": "code",
    "id": "rq4LHkAEDMTK"
   },
   "outputs": [],
   "source": [
    "pipe = make_pipeline(StandardScaler(),\n",
    "                     XGBRegressor(n_estimators= 10, random_state=12))\n",
    "\n",
    "cv = ShuffleSplit(n_splits=10, random_state=0)\n",
    "\n",
    "param_grid = {'xgbregressor__max_depth': [5, 7],\n",
    "              'xgbregressor__learning_rate': [0.1, 0.3]}\n",
    "\n",
    "grid = GridSearchCV(pipe, param_grid=param_grid, cv=cv, n_jobs= -1)"
   ]
  },
  {
   "cell_type": "code",
   "execution_count": 37,
   "metadata": {
    "colab": {
     "autoexec": {
      "startup": false,
      "wait_interval": 0
     },
     "base_uri": "https://localhost:8080/",
     "height": 255
    },
    "colab_type": "code",
    "executionInfo": {
     "elapsed": 1574505,
     "status": "ok",
     "timestamp": 1525754092644,
     "user": {
      "displayName": "prakash mishra",
      "photoUrl": "//lh4.googleusercontent.com/-Ej6Y_cq-EAg/AAAAAAAAAAI/AAAAAAAAU3w/qb7u8oox_eU/s50-c-k-no/photo.jpg",
      "userId": "115150043305705155208"
     },
     "user_tz": -330
    },
    "id": "NzHo57QgDMTM",
    "outputId": "ea7c410a-a969-4780-8978-66194231384e"
   },
   "outputs": [
    {
     "data": {
      "text/plain": [
       "GridSearchCV(cv=ShuffleSplit(n_splits=10, random_state=0, test_size='default',\n",
       "       train_size=None),\n",
       "       error_score='raise-deprecating',\n",
       "       estimator=Pipeline(memory=None,\n",
       "     steps=[('standardscaler', StandardScaler(copy=True, with_mean=True, with_std=True)), ('xgbregressor', XGBRegressor(base_score=0.5, booster='gbtree', colsample_bylevel=1,\n",
       "       colsample_bytree=1, gamma=0, learning_rate=0.1, max_delta_step=0,\n",
       "       max_depth=3, ...       reg_alpha=0, reg_lambda=1, scale_pos_weight=1, seed=None,\n",
       "       silent=True, subsample=1))]),\n",
       "       fit_params=None, iid='warn', n_jobs=-1,\n",
       "       param_grid={'xgbregressor__max_depth': [5, 7], 'xgbregressor__learning_rate': [0.1, 0.3]},\n",
       "       pre_dispatch='2*n_jobs', refit=True, return_train_score='warn',\n",
       "       scoring=None, verbose=0)"
      ]
     },
     "execution_count": 37,
     "metadata": {},
     "output_type": "execute_result"
    }
   ],
   "source": [
    "grid.fit(select_X_train, y_train)"
   ]
  },
  {
   "cell_type": "code",
   "execution_count": 38,
   "metadata": {
    "colab": {
     "autoexec": {
      "startup": false,
      "wait_interval": 0
     },
     "base_uri": "https://localhost:8080/",
     "height": 34
    },
    "colab_type": "code",
    "executionInfo": {
     "elapsed": 877,
     "status": "ok",
     "timestamp": 1525754206613,
     "user": {
      "displayName": "prakash mishra",
      "photoUrl": "//lh4.googleusercontent.com/-Ej6Y_cq-EAg/AAAAAAAAAAI/AAAAAAAAU3w/qb7u8oox_eU/s50-c-k-no/photo.jpg",
      "userId": "115150043305705155208"
     },
     "user_tz": -330
    },
    "id": "kG08UnpuDMTW",
    "outputId": "52fce7cd-ce5d-4baf-8f6c-8b18cd3977b4"
   },
   "outputs": [
    {
     "data": {
      "text/plain": [
       "{'xgbregressor__learning_rate': 0.3, 'xgbregressor__max_depth': 7}"
      ]
     },
     "execution_count": 38,
     "metadata": {},
     "output_type": "execute_result"
    }
   ],
   "source": [
    "grid.best_params_"
   ]
  },
  {
   "cell_type": "code",
   "execution_count": 39,
   "metadata": {
    "colab": {
     "autoexec": {
      "startup": false,
      "wait_interval": 0
     }
    },
    "colab_type": "code",
    "id": "8jWP033hf4t5"
   },
   "outputs": [],
   "source": [
    "xgbreg = pickle.dumps(grid)"
   ]
  },
  {
   "cell_type": "markdown",
   "metadata": {
    "colab_type": "text",
    "id": "g3m4adxqhpxa"
   },
   "source": [
    "## <u>Comparision between different models</u> :"
   ]
  },
  {
   "cell_type": "code",
   "execution_count": 40,
   "metadata": {},
   "outputs": [],
   "source": [
    "lin_reg = pickle.loads(lin_reg)\n",
    "Dectree_reg = pickle.loads(Dectree_reg)\n",
    "Randfor_reg = pickle.loads(Randfor_reg)\n",
    "xgbreg = pickle.loads(xgbreg)"
   ]
  },
  {
   "cell_type": "code",
   "execution_count": 41,
   "metadata": {
    "colab": {
     "autoexec": {
      "startup": false,
      "wait_interval": 0
     }
    },
    "colab_type": "code",
    "id": "PYxBPcV9hvc-"
   },
   "outputs": [
    {
     "name": "stdout",
     "output_type": "stream",
     "text": [
      "Linear Regressor accuracy is 0.8547439877398585\n",
      "DecisionTree Regressor accuracy is 0.9300350437146765\n",
      "RandomForest regressor accuracy is 0.9594056281344316\n",
      "XGBoost regressor accuracy is 0.8633879615480398\n"
     ]
    }
   ],
   "source": [
    "print(\"\"\"Linear Regressor accuracy is {lin}\n",
    "DecisionTree Regressor accuracy is {Dec}\n",
    "RandomForest regressor accuracy is {ran}\n",
    "XGBoost regressor accuracy is {xgb}\"\"\".format(lin=lin_reg.score(select_X_test, y_test),\n",
    "                                                       Dec=Dectree_reg.score(select_X_test, y_test),\n",
    "                                                       ran=Randfor_reg.score(select_X_test, y_test),\n",
    "                                                       xgb=xgbreg.score(select_X_test, y_test)))"
   ]
  },
  {
   "cell_type": "markdown",
   "metadata": {},
   "source": [
    "By accuracy comparision performed above we can say here that RandomForest regressor gives better result than any other model. and it can predict the target function with approx 95% accuracy."
   ]
  }
 ],
 "metadata": {
  "accelerator": "GPU",
  "colab": {
   "default_view": {},
   "name": "Copy of projetct_1.ipynb",
   "provenance": [
    {
     "file_id": "18Fjvl5YDMcWsGDnwxkpm4dHech-t8qEh",
     "timestamp": 1525763054939
    }
   ],
   "version": "0.3.2",
   "views": {}
  },
  "kernelspec": {
   "display_name": "Python 3",
   "language": "python",
   "name": "python3"
  },
  "language_info": {
   "codemirror_mode": {
    "name": "ipython",
    "version": 3
   },
   "file_extension": ".py",
   "mimetype": "text/x-python",
   "name": "python",
   "nbconvert_exporter": "python",
   "pygments_lexer": "ipython3",
   "version": "3.7.0"
  }
 },
 "nbformat": 4,
 "nbformat_minor": 1
}
